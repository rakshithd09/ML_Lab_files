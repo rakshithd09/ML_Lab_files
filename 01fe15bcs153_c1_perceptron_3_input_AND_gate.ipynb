{
 "cells": [
  {
   "cell_type": "code",
   "execution_count": 4,
   "metadata": {
    "collapsed": true
   },
   "outputs": [],
   "source": [
    "import tensorflow as tf\n",
    "import numpy\n",
    "import matplotlib.pyplot as plt"
   ]
  },
  {
   "cell_type": "code",
   "execution_count": 5,
   "metadata": {
    "collapsed": true
   },
   "outputs": [],
   "source": [
    "# Parameters\n",
    "learning_rate = 0.0005\n",
    "training_epochs = 500\n",
    "display_step = 10"
   ]
  },
  {
   "cell_type": "code",
   "execution_count": 6,
   "metadata": {},
   "outputs": [
    {
     "name": "stdout",
     "output_type": "stream",
     "text": [
      "8\n"
     ]
    }
   ],
   "source": [
    "#3-Input AND Gate\n",
    "train_X1 = numpy.asarray([0,0,0,0,1,1,1,1])\n",
    "train_X2 = numpy.asarray([0,0,1,1,0,0,1,1])\n",
    "train_X3 = numpy.asarray([0,1,0,1,0,1,0,1])\n",
    "train_Y = numpy.asarray([0,0,0,0,0,0,0,1])\n",
    "n_samples = train_X1.shape[0]\n",
    "print(n_samples)"
   ]
  },
  {
   "cell_type": "code",
   "execution_count": 7,
   "metadata": {
    "collapsed": true
   },
   "outputs": [],
   "source": [
    "# tf Graph Input\n",
    "X1 = tf.placeholder(\"float\")\n",
    "X2 = tf.placeholder(\"float\")\n",
    "X3 = tf.placeholder(\"float\")\n",
    "Y = tf.placeholder(\"float\")\n",
    "\n",
    "# Set model weights\n",
    "W1 = tf.Variable(tf.constant(0.0), name=\"weight1\")\n",
    "W2 = tf.Variable(tf.constant(0.0), name=\"weight2\")\n",
    "W3 = tf.Variable(tf.constant(0.0), name=\"weight3\")\n",
    "b = tf.Variable(tf.constant(0.0), name=\"bias\")"
   ]
  },
  {
   "cell_type": "code",
   "execution_count": 8,
   "metadata": {
    "collapsed": true
   },
   "outputs": [],
   "source": [
    "# Construct a linear model\n",
    "#pred1 = tf.multiply(X1, W1)\n",
    "#pred2 = tf.add(tf.multiply(X2,W2),pred1)\n",
    "#pred3 = tf.add(tf.multiply(X3,W3),pred2)\n",
    "#final_pred = tf.add(pred3,b)\n",
    "#or\n",
    "pred = tf.add(tf.multiply(X1,W1), tf.add(tf.multiply(X2,W2), tf.add(tf.multiply(X3,W3), b)))"
   ]
  },
  {
   "cell_type": "code",
   "execution_count": 9,
   "metadata": {
    "collapsed": true
   },
   "outputs": [],
   "source": [
    "#hypothesis--->Sigmoid function\n",
    "f_x = tf.truediv(1., tf.add(1., tf.exp(tf.subtract(0., pred))))"
   ]
  },
  {
   "cell_type": "code",
   "execution_count": null,
   "metadata": {
    "collapsed": true
   },
   "outputs": [],
   "source": []
  }
 ],
 "metadata": {
  "kernelspec": {
   "display_name": "Python 3",
   "language": "python",
   "name": "python3"
  },
  "language_info": {
   "codemirror_mode": {
    "name": "ipython",
    "version": 3
   },
   "file_extension": ".py",
   "mimetype": "text/x-python",
   "name": "python",
   "nbconvert_exporter": "python",
   "pygments_lexer": "ipython3",
   "version": "3.6.1"
  }
 },
 "nbformat": 4,
 "nbformat_minor": 2
}
