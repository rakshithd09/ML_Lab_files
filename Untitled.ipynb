{
 "cells": [
  {
   "cell_type": "code",
   "execution_count": 4,
   "metadata": {},
   "outputs": [
    {
     "name": "stdout",
     "output_type": "stream",
     "text": [
      "Enter value of m:5\n",
      "Enter the value f x:4\n",
      "Enter value of constant:2\n",
      "22\n"
     ]
    }
   ],
   "source": [
    "import tensorflow as tf\n",
    "\n",
    "with tf.name_scope(\"mx\"):\n",
    "    m = int(input(\"Enter value of m:\"))\n",
    "    x = int(input(\"Enter the value f x:\"))\n",
    "    mx = tf.multiply(m,x,name=\"mx\")\n",
    "with tf.name_scope(\"c\"):\n",
    "    c = int(input(\"Enter value of constant:\"))\n",
    "with tf.name_scope(\"y\"):\n",
    "    y = tf.add(mx,c,name=\"y\")\n",
    "  \n",
    "with tf.Session() as sess:\n",
    "    writer = tf.summary.FileWriter(\"/tmp/tboard/output123\", sess.graph)\n",
    "    print(sess.run(y))\n",
    "    writer.close()\n",
    "\n",
    "\n",
    "\n",
    "    "
   ]
  },
  {
   "cell_type": "code",
   "execution_count": null,
   "metadata": {
    "collapsed": true
   },
   "outputs": [],
   "source": []
  }
 ],
 "metadata": {
  "kernelspec": {
   "display_name": "Python 3",
   "language": "python",
   "name": "python3"
  },
  "language_info": {
   "codemirror_mode": {
    "name": "ipython",
    "version": 3
   },
   "file_extension": ".py",
   "mimetype": "text/x-python",
   "name": "python",
   "nbconvert_exporter": "python",
   "pygments_lexer": "ipython3",
   "version": "3.6.1"
  }
 },
 "nbformat": 4,
 "nbformat_minor": 2
}
