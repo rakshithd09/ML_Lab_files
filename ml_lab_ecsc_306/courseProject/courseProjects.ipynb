{
 "cells": [
  {
   "cell_type": "markdown",
   "metadata": {
    "slideshow": {
     "slide_type": "slide"
    }
   },
   "source": [
    "### Problem Statements for Course Project"
   ]
  },
  {
   "cell_type": "markdown",
   "metadata": {
    "slideshow": {
     "slide_type": "slide"
    }
   },
   "source": [
    "## A1 & A2 Projects\n",
    "\n",
    "### Problems on ADAS - Advanced Driving Assistance Systems\n",
    "\n",
    "1. Lane detection\n",
    "2. Traffic signal\n",
    "3. Sign board detection\n",
    "4. Collision avoidance System\n",
    "5. Vehicle speed monitoring & Object detection\n",
    "6. Blind spot detection\n",
    "7. Pedestrian Detection\n",
    "8. Pot holes on roads\n",
    "9. Directions of the road(painted images on road)\n",
    "10. Vehicle detection\n",
    "11. GPS Tracking\n",
    "12. Zebra crossing\n",
    "\n"
   ]
  },
  {
   "cell_type": "markdown",
   "metadata": {
    "slideshow": {
     "slide_type": "slide"
    }
   },
   "source": [
    "## B1 & B2\n",
    "\n",
    "### Problems on ImageClassification for Smart City\n",
    "\n",
    "1. Traffic monitoring\n",
    "2. Road humps\n",
    "3. Tree density\n",
    "4. Siddharoodh math \n",
    "5. Chennamma statue\n",
    "6. Railway station\n",
    "7. Bus stand\n",
    "8. Moorusavir math\n",
    "9. Durgad bail\n",
    "10. Nrupatunga betta\n",
    "11. Unkal lake\n",
    "12. OASIS mall\n",
    "\n"
   ]
  },
  {
   "cell_type": "markdown",
   "metadata": {
    "slideshow": {
     "slide_type": "slide"
    }
   },
   "source": [
    "## C1 & C2\n",
    "\n",
    "### Problems on ImageClassifcation for KLE Tech\n",
    "\n",
    "1. main building structure\n",
    "2. library\n",
    "3. all departments\n",
    "4. gymkhana \n",
    "5. hostel\n",
    "6. parking slot\n",
    "7. entrance\n",
    "8. quadrangle area\n",
    "9. POST and Bank.\n",
    "10. Musical Fountain\n",
    "11. Deshpande foundation\n",
    "12. LHC"
   ]
  },
  {
   "cell_type": "markdown",
   "metadata": {
    "slideshow": {
     "slide_type": "slide"
    }
   },
   "source": [
    "## D1 & D2\n",
    "\n",
    "1. Spam Detection\n",
    "2. Credit Card Fraud Detection\n",
    "3. Product Recommendation\n",
    "4. Stock Trading\n",
    "5. Shape Detection\n",
    "6. Baseball win prediction\n",
    "7. Identification of handwriting\n",
    "8. Crop Growth prediction\n",
    "9. Text translation\n",
    "10. Semantic structures\n",
    "11. Twitter Sentiment analysis\n",
    "12. Leaf Identification\n"
   ]
  },
  {
   "cell_type": "markdown",
   "metadata": {
    "slideshow": {
     "slide_type": "slide"
    }
   },
   "source": [
    "## Additional Problems\n",
    "\n",
    "1. Sudoko game player \n",
    "2. RoadFighter car racing\n",
    "3. Painting Style Transfer \n"
   ]
  }
 ],
 "metadata": {
  "celltoolbar": "Slideshow",
  "kernelspec": {
   "display_name": "Python 2",
   "language": "python",
   "name": "python2"
  },
  "language_info": {
   "codemirror_mode": {
    "name": "ipython",
    "version": 2
   },
   "file_extension": ".py",
   "mimetype": "text/x-python",
   "name": "python",
   "nbconvert_exporter": "python",
   "pygments_lexer": "ipython2",
   "version": "2.7.6"
  }
 },
 "nbformat": 4,
 "nbformat_minor": 2
}
