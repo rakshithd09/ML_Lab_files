{
 "cells": [
  {
   "cell_type": "markdown",
   "metadata": {
    "slideshow": {
     "slide_type": "slide"
    }
   },
   "source": [
    "## Assignment for Lab1\n",
    "\n",
    "\n",
    "\n",
    "### Write the program to generate tensorboard graph for below equations. \n",
    "##### The code and images should be uploaded to your own repository\n",
    "\n"
   ]
  },
  {
   "cell_type": "markdown",
   "metadata": {
    "slideshow": {
     "slide_type": "slide"
    }
   },
   "source": [
    "## Slot : A1\n",
    "\n",
    "1. $$ (a+b)^2 = a^2 + b^2 + 2ab $$\n",
    "2. $$ (a+b+c)^2 = a^2 + b^2 + 2ab +2bc + 2ca $$\n",
    "\n",
    "\n",
    "## Slot : A2\n",
    "\n",
    "1. $$ (a-b)^2 = a^2 + b^2 - 2ab $$\n",
    "2. $$ (a^3+ b^3) = (a+b)(a^2 -ab + b^2) $$\n",
    "\n",
    "\n",
    "\n",
    "## Slot : B1\n",
    "\n",
    "1. $$ (a+b)^2 = a^2 + b^2 + 2ab $$\n",
    "2. $$ (a^3 - b^3) = (a- b)(a^2 + ab + b^2) $$\n",
    "\n",
    "## Slot : B2\n",
    "\n",
    "1. $$ (a-b)^2 = a^2 + b^2 - 2ab $$\n",
    "2. $$ (a-b-c)^2 = a^2 + b^2  + c^2 -2ab -2ca + 2bc $$\n",
    "\n",
    "\n",
    "## Slot : C1\n",
    "\n",
    "1. $$ (a+b)^2 = a^2 + b^2 + 2ab $$\n",
    "2. $$ (a-b+c) ^2 =  a^2 +b^2 + c^2 -2xy -2yz + 2xz$$\n",
    "\n",
    "\n",
    "\n",
    "## Slot : C2\n",
    "\n",
    "1. $$ (a-b)^2 = a^2 + b^2 - 2ab $$\n",
    "2. $$ (a+b)^3 = a^3 + b^3 + 3ab(a+b) $$\n",
    "\n",
    "## Slot D1\n",
    "1. $$ (a+b)^2 = a^2 + b^2 + 2ab $$\n",
    "2. $$ (a-b)^3 = a^3 - b^3 + 3ab(a-b) $$\n",
    "\n",
    "## Slot D2\n",
    "1. $$ (a-b)^2 = a^2 + b^2 - 2ab $$\n",
    "2. $$ (a + b-c) ^2 = a^2 + b^2 + c^2 + 2xy -2yz -2xz $$\n"
   ]
  }
 ],
 "metadata": {
  "celltoolbar": "Slideshow",
  "kernelspec": {
   "display_name": "Python 3",
   "language": "python",
   "name": "python3"
  },
  "language_info": {
   "codemirror_mode": {
    "name": "ipython",
    "version": 3
   },
   "file_extension": ".py",
   "mimetype": "text/x-python",
   "name": "python",
   "nbconvert_exporter": "python",
   "pygments_lexer": "ipython3",
   "version": "3.6.1"
  }
 },
 "nbformat": 4,
 "nbformat_minor": 2
}
